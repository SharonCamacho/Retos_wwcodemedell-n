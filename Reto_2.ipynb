{
  "nbformat": 4,
  "nbformat_minor": 0,
  "metadata": {
    "colab": {
      "name": "Reto_2.ipynb",
      "provenance": [],
      "authorship_tag": "ABX9TyNmpIZaDUWf+Svf01E3KEhF",
      "include_colab_link": true
    },
    "kernelspec": {
      "name": "python3",
      "display_name": "Python 3"
    }
  },
  "cells": [
    {
      "cell_type": "markdown",
      "metadata": {
        "id": "view-in-github",
        "colab_type": "text"
      },
      "source": [
        "<a href=\"https://colab.research.google.com/github/SharonCamacho/Retos_wwcodemedellin/blob/main/Reto_2.ipynb\" target=\"_parent\"><img src=\"https://colab.research.google.com/assets/colab-badge.svg\" alt=\"Open In Colab\"/></a>"
      ]
    },
    {
      "cell_type": "markdown",
      "metadata": {
        "id": "v9aJM1k0jaPT"
      },
      "source": [
        "\n",
        "# Linea Python y DS\n",
        "## Reto: Diccionarios y Dataframes\n",
        "### Descripción:\n",
        "Cuando estamos trabajando con datos existen 2 estructuras de datos que se convierten de mucha utilidad en nuestro día a\n",
        "día. Estan son: diccionarios y dataframes.\n",
        "Los diccionarios nos permiten almacenar datos en un formato clave valor, por ejemplo:\n",
        "```python\n",
        "mi_diccionario = {'estudiantes': 12, 'profesionales': 40, 'pensionados': 5}\n",
        "```\n",
        "Y los datasets son estructuras de datos que nos permiten representar nuestra informacion como tablas:\n",
        "\n",
        "|   | categoria     | cantidad |\n",
        "|---|---------------|----------|\n",
        "| 0 | estudiantes   | 12       |\n",
        "| 1 | profesionales | 40       |\n",
        "| 2 | pensionados   | 5        |\n",
        "\n",
        "y hacer uso de funciones especificas para este tipo de datos que nos permiten hacer cambios en nuestros datos de forma facil.\n",
        "\n",
        "### Objetivo:\n",
        "Completar la función `generar_dataframe_palabras` para que dado un texto genere un diccionario que nos indique cuantas\n",
        "veces se repite cada palabra. El diccionario resultante debe lucir de la siguiente manera:\n",
        "````python\n",
        "results = {\n",
        "    'puedo': 2,\n",
        "    'noche': 1,\n",
        "    'y': 5,\n",
        "    ...\n",
        "}\n",
        "````\n",
        "Una vez logremos saber cuantas ocurrecias hay en el texto de cada palabra la idea es usar este diccionario para convertirlo\n",
        "en un Dataframe usando la libreria **pandas**. Aun no vamos a hacer cambios con el dataframe, solo lo queremos generar\n",
        "para trabajar facilmente con el.\n",
        "\n",
        "##### Input: \n",
        "Una cadena de texto\n",
        "\n",
        "#### Output:\n",
        "Un Dataframe construido desde un diccionario que contiene cada palabra con sus respectivas repeticiones.\n",
        "\n",
        "\n",
        "### Preparacion entorno:\n",
        "Antes de comenzar con el reto es importante que instalemos las librerías que vamos a usar. Para esto haremos uso del \n",
        "siguiente comando:\n",
        "```shell script\n",
        "$ pip install -r requirements.txt\n",
        "```\n",
        "\n",
        "\n",
        "### Comprobar resultados:\n",
        "Para comprobar los resultados puedes ejecutar el script main.py usando:\n",
        "```shell script\n",
        "$ python main.py\n",
        "```\n",
        "Y deberías de ver los siguiente:\n",
        "```shell script\n",
        "Excelente, has convertido un poema en un Dataframe para trabajar con el!\n",
        "```"
      ]
    },
    {
      "cell_type": "markdown",
      "metadata": {
        "id": "AjR__W31rBMe"
      },
      "source": [
        "### **Solución**"
      ]
    },
    {
      "cell_type": "code",
      "metadata": {
        "colab": {
          "base_uri": "https://localhost:8080/"
        },
        "id": "S8VHlMfajHD6",
        "outputId": "e8a210af-0875-4f59-b423-bc9471e41899"
      },
      "source": [
        "# This is a sample Python script.\n",
        "import pandas as pd\n",
        "\n",
        "\n",
        "def generar_dataframe_palabras(text):\n",
        "    # Escribe el codigo para generar el diccionario con las ocurrencias de cada palabra\n",
        "    diccionario_ocurrencias = {}\n",
        "    texto = text.lower().split()\n",
        "    \n",
        "    for word in texto:\n",
        "      word = word.lower()\n",
        "      if word not in diccionario_ocurrencias:\n",
        "        diccionario_ocurrencias[word] = 0\n",
        "      diccionario_ocurrencias[word] += 1\n",
        "\n",
        "    \n",
        "    # Convertir el diccionario de ocurrencias en un Dataframe usando pandas\n",
        "    data_items = diccionario_ocurrencias. items()\n",
        "    data_list = list(data_items)\n",
        "    dataframe = pd. DataFrame(data_list)\n",
        "\n",
        "    return dataframe\n",
        "\n",
        "\n",
        "neruda = \"\"\"Puedo escribir los versos más tristes esta noche.\n",
        "            Yo la quise, y a veces ella también me quiso.\n",
        "\n",
        "            En las noches como ésta la tuve entre mis brazos.\n",
        "            La besé tantas veces bajo el cielo infinito.\n",
        "            \n",
        "            Ella me quiso, a veces yo también la quería.\n",
        "            Cómo no haber amado sus grandes ojos fijos.\"\"\".lower()  # lower hace que todas las letras sean minúsculas.\n",
        "\n",
        "if __name__ == '__main__':\n",
        "    d = generar_dataframe_palabras(neruda)\n",
        "    assert isinstance(d, pd.DataFrame), \"Aun no generas un Dataframe, verifica tu algoritmo!\"\n",
        "    print(\"Excelente, has convertido un poema en un Dataframe para trabajar con el!\")\n"
      ],
      "execution_count": 38,
      "outputs": [
        {
          "output_type": "stream",
          "text": [
            "Excelente, has convertido un poema en un Dataframe para trabajar con el!\n"
          ],
          "name": "stdout"
        }
      ]
    }
  ]
}