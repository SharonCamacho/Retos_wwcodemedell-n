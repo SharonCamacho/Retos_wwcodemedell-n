{
  "nbformat": 4,
  "nbformat_minor": 0,
  "metadata": {
    "colab": {
      "name": "Reto_3.ipynb",
      "provenance": [],
      "authorship_tag": "ABX9TyNRBJOF0PK+eTNfxEUo/S0E",
      "include_colab_link": true
    },
    "kernelspec": {
      "name": "python3",
      "display_name": "Python 3"
    }
  },
  "cells": [
    {
      "cell_type": "markdown",
      "metadata": {
        "id": "view-in-github",
        "colab_type": "text"
      },
      "source": [
        "<a href=\"https://colab.research.google.com/github/SharonCamacho/Retos_wwcodemedellin/blob/main/Reto_3.ipynb\" target=\"_parent\"><img src=\"https://colab.research.google.com/assets/colab-badge.svg\" alt=\"Open In Colab\"/></a>"
      ]
    },
    {
      "cell_type": "markdown",
      "metadata": {
        "id": "gCPyi5A0RpXV"
      },
      "source": [
        "\n",
        "# Linea Python y DS\n",
        "## Reto: CSV's y filtrado de datos\n",
        "### Descripción:\n",
        "Ahora que conocemos las estructuras de datos mas comunes para realizar manejo de datos en python (Dataframes)\n",
        "vamos a realizar una tarea que es muy común en el area de DS, la cual es la lectura de archivos CSV.\n",
        "\n",
        "Los archivos CSV son archivos de texto plano que buscan representar tablas de datos en las cuales son valores están \n",
        "separados por comas. (CSV: Comma-separated values) Aquí un pequeño ejemplo:\n",
        "```text\n",
        "adult, belongs_to_collection, budget, id, imdb_id, original_language,original_title\n",
        "False, Toy Story Collection, 30000000, 862, tt0114709, en, Toy Story\n",
        "False, James Bond Collection, 58000000, 710, tt0113189, en, GoldenEye\n",
        "...\n",
        "```\n",
        "\n",
        "### Objetivo:\n",
        "Completar la función `analizar_peliculas` para que lea el archivo CSV llamado `movies_metadata.csv` que se encuentra en \n",
        "la carpeta. Este archivo lo tenemos que cargar en un Dataframe usando python, nos podemos ayudar de la librería `pandas` \n",
        "para ello (Consulta como leer un archivo CSV usando pandas en caso de que sea necesario). \n",
        "\n",
        "El archivo original de `movies_metadata.csv` contiene las siguientes columnas:\n",
        "- adult\n",
        "- belongs_to_collection\n",
        "- budget\n",
        "- genres\n",
        "- homepage\n",
        "- id\n",
        "- imdb_id\n",
        "- original_language\n",
        "- original_title\n",
        "- overview\n",
        "- popularity\n",
        "- poster_path\n",
        "- production_companies\n",
        "- production_countries\n",
        "- release_date\n",
        "- revenue\n",
        "- runtime\n",
        "- spoken_languages\n",
        "- status\n",
        "- tagline\n",
        "- title\n",
        "- video\n",
        "- vote_average\n",
        "- vote_count\n",
        "\n",
        "El objetivo es extraer un nuevo Dataframe con las siguientes características:\n",
        "   1. El nuevo Dataframe solo debe contener estas columnas:\n",
        "       - title\n",
        "       - release_date\n",
        "       - budget \n",
        "       - revenue\n",
        "       - runtime\n",
        "   2. Las películas que cumplan todas las siguientes condiciones:\n",
        "       - Hayan generado un **retorno** (revenue) de mas de **2000000** USD\n",
        "       - Su **presupuesto** (budget) haya sido inferior a **1000000** USD\n",
        "       \n",
        "Puedes investigar como filtrar Dataframes en python para solucionar el segundo item.\n",
        "   \n",
        "##### Input: \n",
        "Un archivo CSV con un dataset de películas\n",
        "#### Output:\n",
        "Un nuevo Dataframe solo con los datos que cumplen las características mencionadas\n",
        "### Preparación entorno:\n",
        "Antes de comenzar con el reto es importante que instalemos las librerías que vamos a usar. Para esto haremos uso del \n",
        "siguiente comando:\n",
        "```shell script\n",
        "$ pip install -r requirements.txt\n",
        "```\n",
        "\n",
        "\n",
        "### Comprobar resultados:\n",
        "Para comprobar los resultados puedes ejecutar el script main.py usando:\n",
        "```shell script\n",
        "$ python main.py\n",
        "```\n",
        "Y deberías de ver los siguiente:\n",
        "```shell script\n",
        "Excelente, has aprendido a leer CSV's con python y como filtrarlos!\n",
        "```"
      ]
    },
    {
      "cell_type": "markdown",
      "metadata": {
        "id": "dL4NMdLrRsti"
      },
      "source": [
        "## **Solución**"
      ]
    },
    {
      "cell_type": "code",
      "metadata": {
        "colab": {
          "base_uri": "https://localhost:8080/"
        },
        "id": "YQGDY42DRhsG",
        "outputId": "69891523-d753-4020-a016-572d74243938"
      },
      "source": [
        "import pandas as pd\n",
        "\n",
        "\n",
        "def analizar_peliculas():\n",
        "    \"\"\"\n",
        "    Escribe tu codigo aquí\n",
        "    \"\"\"\n",
        "    data = pd.read_csv('movies_metadata.csv')\n",
        "\n",
        "    data = data[['title','release_date', 'budget', 'revenue', 'runtime']]\n",
        "\n",
        "    result = data[(data['revenue']>2000000) & (data['budget']<1000000)]\n",
        "    \n",
        "    return result\n",
        "\n",
        "\n",
        "if __name__ == '__main__':\n",
        "    peliculas_resultantes = analizar_peliculas()\n",
        "    assert isinstance(peliculas_resultantes, pd.DataFrame), \"Tu función aun no devuelve un Dataframe!\"\n",
        "    assert peliculas_resultantes.shape[1] == 5, \"Verifica que tu Dataframe solo contenga las columnas mencionadas\"\n",
        "    assert peliculas_resultantes.shape[\n",
        "               0] == 3, \"Creo que debes verificar los filtros, la cantidad de películas que cumple las condiciones no es correcta\"\n",
        "    print(\"Excelente, has aprendido a leer CSV's con python y como filtrarlos!\")"
      ],
      "execution_count": 9,
      "outputs": [
        {
          "output_type": "stream",
          "text": [
            "Excelente, has aprendido a leer CSV's con python y como filtrarlos!\n"
          ],
          "name": "stdout"
        }
      ]
    }
  ]
}