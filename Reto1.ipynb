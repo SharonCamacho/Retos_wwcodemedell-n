{
  "nbformat": 4,
  "nbformat_minor": 0,
  "metadata": {
    "colab": {
      "name": "Reto1.ipynb",
      "provenance": [],
      "authorship_tag": "ABX9TyNftTvQ0kknC2qmOIz+Mi4c",
      "include_colab_link": true
    },
    "kernelspec": {
      "name": "python3",
      "display_name": "Python 3"
    }
  },
  "cells": [
    {
      "cell_type": "markdown",
      "metadata": {
        "id": "view-in-github",
        "colab_type": "text"
      },
      "source": [
        "<a href=\"https://colab.research.google.com/github/SharonCamacho/Retos_wwcodemedell-n/blob/main/Reto1.ipynb\" target=\"_parent\"><img src=\"https://colab.research.google.com/assets/colab-badge.svg\" alt=\"Open In Colab\"/></a>"
      ]
    },
    {
      "cell_type": "markdown",
      "metadata": {
        "id": "zZ1-NANigDc-"
      },
      "source": [
        "# Linea Python y DS\n",
        "## Reto: Comprensión de listas\n",
        "\n",
        "Descripción:\n",
        "En el mundo de la ciencia de datos cuando se está trabajando con texto es muy común que sea necesario hacer una limpieza de datos. Generalmente la limpieza de datos consiste en definir un formato estándar a todos los datos con los que estamos trabajando y remover datos que no representan importancia.\n",
        "\n",
        "En este caso vamos a hacer uso de una funcionalidad muy particular de python llamada comprehension de listas que nos será util para procesar todas las palabras en un texto.\n",
        "\n",
        "Objetivo:\n",
        "Completar la función limpiar_stop_words para que remueva las palabras que se encuentren presentes en la listastopwords ademas de convertir todo el texto a minúscula.\n",
        "\n",
        "Input:\n",
        "Una cadena de texto con palabras a remover (stopwords) dentro de el y sin un formato estándar\n",
        "\n",
        "Output:\n",
        "La cadena de texto completamente en minúsculas y sin las palabras \"stopwords\"\n",
        "\n",
        "Comprobar resultados:\n",
        "Para comprobar los resultados puedes ejecutar el script main.py usando:\n",
        "```\n",
        "$ python main.py\n",
        "```\n",
        "\n",
        "Y deberías de ver los siguiente:\n",
        "\n",
        "```\n",
        "Tu limpiador de texto funciona!. FELICITACIONES!!!\n",
        "```"
      ]
    },
    {
      "cell_type": "markdown",
      "metadata": {
        "id": "sU80qFLLgImj"
      },
      "source": [
        "### Solución"
      ]
    },
    {
      "cell_type": "code",
      "metadata": {
        "colab": {
          "base_uri": "https://localhost:8080/"
        },
        "id": "DKkp0-cIfyyp",
        "outputId": "05ce3193-ba2b-4c8e-d528-09693a3e1520"
      },
      "source": [
        "stopwords = ['the', 'of', 'is', 'i', 'me', 'he', 'she', 'of', 'or', 'and', 'for', 'to']\n",
        "\n",
        "\n",
        "def limpiar_stop_words(texto_a_limpiar):\n",
        "    \"\"\"\n",
        "    :param texto_a_limpiar: Es un string que contiene palabras tanto en mayúsculas como minúsculas y algunas stopwords\n",
        "    :return: Una nueva version el texto con todas sus palabras en minúscula y sin las stopwords\n",
        "    El objetivo del ejercicio es hacer uso de comprensión de listas para generar una nueva version del texto en\n",
        "    minúscula y sin stopwords.\n",
        "    Pista: necesitaras las funciones .split() y .join() para convertir el texto a lista y viceversa\n",
        "    \"\"\"\n",
        "    # Escribe tu código aquí.\n",
        "    \n",
        "    texto_a_limpiar = texto_a_limpiar.split()\n",
        "    \n",
        "    resultado = [word.lower() for word in texto_a_limpiar if not word in stopwords]\n",
        "\n",
        "    return \" \".join(resultado)\n",
        "\n",
        "\n",
        "if __name__ == '__main__':\n",
        "    texto_entrada = \"The NEW python prograMMER is a GREAT person. He is EXCEllent solving problems OF CODING anD \" \\\n",
        "                    \"writING scrIPts tO solve moDErn problems\"\n",
        "    texto_procesado = limpiar_stop_words(texto_entrada)\n",
        "    texto_limpio = \"the new python programmer a great person. he excellent solving problems of coding and writing \" \\\n",
        "                   \"scripts to solve modern problems\"\n",
        "    assert texto_limpio == texto_procesado, \"Tu función aun no limpia de forma correcta\"\n",
        "    print(\"Tu limpiador de texto funciona!. FELICITACIONES!!!\")"
      ],
      "execution_count": 1,
      "outputs": [
        {
          "output_type": "stream",
          "text": [
            "Tu limpiador de texto funciona!. FELICITACIONES!!!\n"
          ],
          "name": "stdout"
        }
      ]
    }
  ]
}